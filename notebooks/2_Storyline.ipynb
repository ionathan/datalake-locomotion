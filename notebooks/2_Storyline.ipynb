{
 "cells": [
  {
   "cell_type": "markdown",
   "metadata": {},
   "source": [
    "# Data lake stack in Animal Sciences \n",
    "![image](http://breed4food.com/wp-content/uploads/2014/09/Breed4Food-logo.jpg)\n",
    "\n",
    "This work is embedded within the Big Data project of [Breed4Food](http://breed4food.com). \n",
    "Here we will explore the possibility of using a data lake stack for storing and analyzing sensor data, using an animal experiment as use case to have improved scalability, modularity, and interoperability. The selected use case was an experiment in which the gait score of 200 turkeys was determined. This gait scoring is traditionally performed by a trained person. In this experiment different type of sensors were used to explore to what extent these sensors can  describe or mirror the gait score of a trained person.\n",
    "\n",
    "### Data  & Sensors \n",
    "* Gait score (Visually trained person)\n",
    "* Body Weight (Weighing scale)\n",
    "* Force Plate (Kistler)\n",
    "* Accelerometers / inertial measurement units {IMUs} (Xsense MTw awinda)\n",
    "* 3D Video camera (Intel Realsense D415)"
   ]
  },
  {
   "cell_type": "markdown",
   "metadata": {},
   "source": [
    "## ETL\n",
    "The _**Extract, Transform, and Load (ETL) procedure**_, is the general procedure of copying data from one or more sources into a destination system which represents the data differently from the source(s). \n",
    "* Extract: retrieve data from a source\n",
    "* Transform: Converting retrieved data according to rules and lookup tables or creating combinations of data from different sources \n",
    "* Load: save the data in a different location\n",
    "\n",
    "The ETL procedure will become more important because we need to handle ever increasing datasets, varying data structures, as well as heterogeneous and multimodal data. In the animal experiment different data types were acquired by each sensor. For example for the **Force Plate (Kistler)** this were binary files, so called Technical Data Management Streaming (TDMS) files, and this file format was generated to help engineers and scientists to properly store the large amounts of data they generate during simulation(s) and test(s). In our data lake stack we want to be able to scale up the ETL procedure for each sensor, so when large number of animals are being investigated with a certain sensor, we can minimize the time for the ETL procedure.  \n",
    "\n",
    "In short, we want to combine different sensors in a massive way (and extract features), as well as going from proprietary formats to FAIR data. When these data are loaded it will be possible to visualize these data and perform a linear regression (and Machine Learning).\n"
   ]
  },
  {
   "cell_type": "markdown",
   "metadata": {},
   "source": [
    "## Force Plate\n",
    "To get more familiar with the Jupyter Notebook and the scripting we first focus on a single sensor. The first tutorial can be found here >>> [Tutorial One](3_FP_single.ipynb) <<< where we will explain how to extract, transform, and load the data of a single Force Plate file. \n",
    "\n",
    "Now that you are somewhat familiar with the Jupyter Notebook and the scripting, we will now load in all available data of a single sensor. The second tutorial can be found here >>> [Tutorial Two](4_FP_multi.ipynb) <<<."
   ]
  },
  {
   "cell_type": "markdown",
   "metadata": {},
   "source": [
    "## Inertial Measurement Units (Accelerometers)\n",
    "In line with the Force Plate data we also prepared a tutorial on the IMUs which cabn be found here >>> [Tutorial Three](5_Acc_multi.ipynb) <<<"
   ]
  },
  {
   "cell_type": "markdown",
   "metadata": {},
   "source": [
    "## 3D Video\n",
    "In addition to the already mentioned sensors, 3D videos were made as well. "
   ]
  },
  {
   "cell_type": "markdown",
   "metadata": {},
   "source": [
    "# Joining multiple sensor features\n",
    "\n",
    "While the overall goal of this tutorial is about ETL, we will have a first  step with data analytics!\n",
    "\n",
    "We will join the extracted features from the forceplate and the accelerometer sensors, and perform a linear regression to estimate the gait score! \n",
    "\n",
    "Goto: >>> [Tutorial Four](6_LinReg.ipynb) <<<\n"
   ]
  },
  {
   "cell_type": "markdown",
   "metadata": {},
   "source": [
    "# Summarizing\n",
    "Make new summarizing notebook with lessons learned Discussion points etc. "
   ]
  },
  {
   "cell_type": "code",
   "execution_count": null,
   "metadata": {},
   "outputs": [],
   "source": []
  }
 ],
 "metadata": {
  "kernelspec": {
   "display_name": "Python 3",
   "language": "python",
   "name": "python3"
  },
  "language_info": {
   "codemirror_mode": {
    "name": "ipython",
    "version": 3
   },
   "file_extension": ".py",
   "mimetype": "text/x-python",
   "name": "python",
   "nbconvert_exporter": "python",
   "pygments_lexer": "ipython3",
   "version": "3.6.3"
  }
 },
 "nbformat": 4,
 "nbformat_minor": 2
}
